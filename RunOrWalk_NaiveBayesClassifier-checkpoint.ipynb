{
 "cells": [
  {
   "cell_type": "code",
   "execution_count": 1,
   "metadata": {},
   "outputs": [],
   "source": [
    "#import the python libraries\n",
    "import numpy as np\n",
    "import pandas as pd\n",
    "import matplotlib.pyplot as plt\n"
   ]
  },
  {
   "cell_type": "code",
   "execution_count": 2,
   "metadata": {},
   "outputs": [
    {
     "data": {
      "text/plain": [
       "date               object\n",
       "time               object\n",
       "username           object\n",
       "wrist               int64\n",
       "activity            int64\n",
       "acceleration_x    float64\n",
       "acceleration_y    float64\n",
       "acceleration_z    float64\n",
       "gyro_x            float64\n",
       "gyro_y            float64\n",
       "gyro_z            float64\n",
       "dtype: object"
      ]
     },
     "execution_count": 2,
     "metadata": {},
     "output_type": "execute_result"
    }
   ],
   "source": [
    "#Reading the dataset\n",
    "df=pd.read_csv(\"C:\\\\Users\\\\subin\\\\OneDrive\\\\Documents\\\\Neethu\\\\Data Science\\\\WalkOrRun\\\\dataset.csv\")\n",
    "df.dtypes"
   ]
  },
  {
   "cell_type": "code",
   "execution_count": 3,
   "metadata": {},
   "outputs": [],
   "source": [
    "#Data cleaning,we can drop the names,date and the time column as they will not carry any relevant information in the predictive modeling\n",
    "df=df.drop(['date','time','username'],axis=1)\n"
   ]
  },
  {
   "cell_type": "code",
   "execution_count": 4,
   "metadata": {},
   "outputs": [
    {
     "data": {
      "text/plain": [
       "wrist               int64\n",
       "activity            int64\n",
       "acceleration_x    float64\n",
       "acceleration_y    float64\n",
       "acceleration_z    float64\n",
       "gyro_x            float64\n",
       "gyro_y            float64\n",
       "gyro_z            float64\n",
       "dtype: object"
      ]
     },
     "execution_count": 4,
     "metadata": {},
     "output_type": "execute_result"
    }
   ],
   "source": [
    "df.dtypes"
   ]
  },
  {
   "cell_type": "code",
   "execution_count": 5,
   "metadata": {},
   "outputs": [],
   "source": [
    "X=df.iloc[:,2:]\n",
    "Y=df['activity']"
   ]
  },
  {
   "cell_type": "code",
   "execution_count": 9,
   "metadata": {},
   "outputs": [
    {
     "name": "stdout",
     "output_type": "stream",
     "text": [
      "       acceleration_x  acceleration_y  acceleration_z  gyro_x  gyro_y  gyro_z\n",
      "22501         -0.6957         -0.1630          0.0970  0.9855 -0.1175  0.8359\n",
      "8513          -0.1011          0.8070         -0.5658 -0.0254  0.4878  0.3705\n",
      "2235           0.2317          0.5253         -0.3618 -0.6629  1.8790 -1.4686\n",
      "11497         -1.7919         -0.3627         -0.3836  2.0589  0.4687  3.9850\n",
      "79938          0.3063         -0.9865         -0.2380  0.7614  1.0707  0.2675\n"
     ]
    }
   ],
   "source": [
    "#Splitting the data set\n",
    "from sklearn.model_selection import train_test_split\n",
    "X_train,X_test,Y_train,Y_test=train_test_split(X,Y,test_size=0.25,random_state=9)\n",
    "print(X_test.head())"
   ]
  },
  {
   "cell_type": "code",
   "execution_count": 12,
   "metadata": {},
   "outputs": [
    {
     "data": {
      "text/plain": [
       "GaussianNB(priors=None, var_smoothing=1e-09)"
      ]
     },
     "execution_count": 12,
     "metadata": {},
     "output_type": "execute_result"
    }
   ],
   "source": [
    "from sklearn.naive_bayes import GaussianNB\n",
    "reg_model=GaussianNB()\n",
    "reg_model.fit(X_train,Y_train)"
   ]
  },
  {
   "cell_type": "code",
   "execution_count": 24,
   "metadata": {},
   "outputs": [
    {
     "name": "stdout",
     "output_type": "stream",
     "text": [
      "The predictions are: [1 1 1 1 0]\n"
     ]
    }
   ],
   "source": [
    "predictions=reg_model.predict(X_test)\n",
    "print(\"The predictions are:\",predictions[0:5])"
   ]
  },
  {
   "cell_type": "code",
   "execution_count": 28,
   "metadata": {},
   "outputs": [
    {
     "name": "stdout",
     "output_type": "stream",
     "text": [
      "The accuracy of the model is : 0.9565178127963155\n"
     ]
    }
   ],
   "source": [
    "#Checking the model Accuracy\n",
    "from sklearn.metrics import accuracy_score\n",
    "score=accuracy_score(Y_test,predictions)\n",
    "print(\"The accuracy of the model is :\",score)"
   ]
  },
  {
   "cell_type": "code",
   "execution_count": null,
   "metadata": {},
   "outputs": [],
   "source": []
  },
  {
   "cell_type": "code",
   "execution_count": null,
   "metadata": {},
   "outputs": [],
   "source": []
  }
 ],
 "metadata": {
  "kernelspec": {
   "display_name": "Python 3",
   "language": "python",
   "name": "python3"
  },
  "language_info": {
   "codemirror_mode": {
    "name": "ipython",
    "version": 3
   },
   "file_extension": ".py",
   "mimetype": "text/x-python",
   "name": "python",
   "nbconvert_exporter": "python",
   "pygments_lexer": "ipython3",
   "version": "3.6.8"
  }
 },
 "nbformat": 4,
 "nbformat_minor": 2
}
